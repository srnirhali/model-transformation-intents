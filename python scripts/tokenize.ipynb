{
 "cells": [
  {
   "cell_type": "code",
   "execution_count": 1,
   "metadata": {},
   "outputs": [
    {
     "name": "stderr",
     "output_type": "stream",
     "text": [
      "[nltk_data] Downloading package stopwords to\n",
      "[nltk_data]     /Users/abhishekchoudhary/nltk_data...\n",
      "[nltk_data]   Package stopwords is already up-to-date!\n"
     ]
    },
    {
     "data": {
      "text/plain": [
       "True"
      ]
     },
     "execution_count": 1,
     "metadata": {},
     "output_type": "execute_result"
    }
   ],
   "source": [
    "import nltk\n",
    "nltk.download('stopwords')"
   ]
  },
  {
   "cell_type": "code",
   "execution_count": 1,
   "metadata": {},
   "outputs": [],
   "source": [
    "from os import getcwd\n",
    "from os.path import join\n",
    "import pandas as pd\n",
    "import numpy as np"
   ]
  },
  {
   "cell_type": "code",
   "execution_count": 2,
   "metadata": {},
   "outputs": [],
   "source": [
    "df = pd.read_excel(join(getcwd(), '../Intent_classification_filtered.xlsx'))"
   ]
  },
  {
   "cell_type": "code",
   "execution_count": 27,
   "metadata": {},
   "outputs": [],
   "source": [
    "# import re\n",
    "\n",
    "# def clean_str(string: str) -> str:\n",
    "#     string = re.sub(r\"\\\\\", \"\", string)    \n",
    "#     string = re.sub(r\"\\'\", \"\", string)    \n",
    "#     string = re.sub(r\"\\\"\", \"\", string)    \n",
    "#     return string.strip().lower()"
   ]
  },
  {
   "cell_type": "code",
   "execution_count": 28,
   "metadata": {},
   "outputs": [],
   "source": [
    "# def clean_text(df: pd.DataFrame,\n",
    "#                text_col: str,\n",
    "#                label_col: str):\n",
    "#     texts = []\n",
    "#     labels = []\n",
    "#     for raw_text, label in zip(df[text_col], df[label_col]):\n",
    "#         cleaned_text = clean_str(text)\n",
    "#         texts.append(cleaned_text)\n",
    "#         labels.append(label)\n",
    "\n",
    "#     return texts, labels"
   ]
  },
  {
   "cell_type": "code",
   "execution_count": 4,
   "metadata": {},
   "outputs": [
    {
     "name": "stdout",
     "output_type": "stream",
     "text": [
      "(174, 7)\n"
     ]
    }
   ],
   "source": [
    "print(df.shape)"
   ]
  },
  {
   "cell_type": "code",
   "execution_count": 5,
   "metadata": {},
   "outputs": [
    {
     "name": "stdout",
     "output_type": "stream",
     "text": [
      "{'him', 'do', 'other', 'those', 'didn', 'who', 'further', 'then', \"mustn't\", 'whom', 'couldn', 'now', 'is', 'during', 'of', 'he', \"weren't\", 'ain', 'at', 'about', 'below', 'i', 'before', 'our', 'aren', 'once', 'until', 'when', 'here', 'ourselves', \"don't\", 've', 'just', 'most', 'more', 'had', 'these', 'in', 'she', 'me', 'so', 'o', 'weren', 'themselves', 'are', \"needn't\", 'himself', 'while', 'them', \"aren't\", 'have', 'my', 'but', 'against', 'few', 'won', 'all', 'm', \"shan't\", \"shouldn't\", 'her', 'been', 'does', 'under', 'myself', 's', 'doing', 'am', 'if', 'because', 'hers', 'their', \"couldn't\", 'll', 'yours', 'ma', 'with', 'down', \"didn't\", \"hasn't\", 'not', \"mightn't\", 'has', \"hadn't\", 'how', 'off', 'did', 'some', 'be', 'an', 'needn', 'to', 'only', 'and', \"you'll\", 'than', 'out', \"should've\", 'this', 'his', 'up', \"you'd\", 'will', 'shan', 'd', 'or', 'from', 'too', 'wouldn', 'the', 'mustn', 'why', \"she's\", 'a', 'by', 'what', \"isn't\", 'where', 'that', 'such', 'herself', 'hasn', 'having', 'into', 'very', 'after', 'shouldn', \"you're\", \"wouldn't\", \"it's\", 'each', 'being', 'nor', 'were', 'don', 'own', 'there', 'they', 'yourself', 'through', \"haven't\", 'its', 'ours', 'on', 'can', \"won't\", 'mightn', \"doesn't\", 'as', 'same', 'your', 'any', 'yourselves', 'theirs', 'over', 'again', 'haven', 'above', 'between', 're', \"that'll\", 'y', 'no', 'both', 'was', 'we', 'doesn', 't', 'you', \"wasn't\", 'isn', 'which', 'wasn', \"you've\", 'hadn', 'it', 'should', 'for', 'itself'}\n",
      "{'him', 'do', 'other', 'those', 'didn', 'who', 'further', \"mustn't\", 'whom', 'couldn', 'now', 'is', 'during', 'of', 'he', \"weren't\", 'ain', 'at', 'about', 'below', 'i', 'before', 'our', 'aren', 'once', 'until', 'when', 'here', 'ourselves', \"don't\", 've', 'just', 'most', 'more', 'had', 'these', 'she', 'me', 'so', 'o', 'weren', 'themselves', 'are', \"needn't\", 'himself', 'while', 'them', \"aren't\", 'have', 'my', 'but', 'against', 'few', 'won', 'all', 'm', \"shan't\", \"shouldn't\", 'her', 'been', 'does', 'under', 'myself', 's', 'doing', 'am', 'because', 'hers', 'their', \"couldn't\", 'll', 'yours', 'ma', 'with', 'down', \"didn't\", \"hasn't\", 'not', \"mightn't\", 'has', \"hadn't\", 'how', 'off', 'did', 'some', 'be', 'an', 'needn', 'only', 'and', \"you'll\", 'than', \"should've\", 'this', 'his', 'up', \"you'd\", 'will', 'shan', 'd', 'or', 'too', 'wouldn', 'the', 'mustn', 'why', \"she's\", 'a', 'by', 'what', \"isn't\", 'where', 'that', 'such', 'herself', 'hasn', 'having', 'into', 'very', 'after', 'shouldn', \"you're\", \"wouldn't\", \"it's\", 'each', 'being', 'nor', 'were', 'don', 'own', 'there', 'they', 'yourself', 'through', \"haven't\", 'its', 'ours', 'on', 'can', \"won't\", 'mightn', \"doesn't\", 'as', 'same', 'your', 'any', 'yourselves', 'theirs', 'over', 'again', 'haven', 'above', 'between', 're', \"that'll\", 'y', 'no', 'both', 'was', 'we', 'doesn', 't', 'you', \"wasn't\", 'isn', 'which', 'wasn', \"you've\", 'hadn', 'it', 'should', 'for', 'itself'}\n"
     ]
    }
   ],
   "source": [
    "from nltk.corpus import stopwords\n",
    "\n",
    "stop_words = set(stopwords.words('english'))  \n",
    "\n",
    "print(stop_words)\n",
    "\n",
    "stop_words.remove('from')\n",
    "stop_words.remove('to')\n",
    "stop_words.remove('if')\n",
    "stop_words.remove('then')\n",
    "stop_words.remove('in')\n",
    "stop_words.remove('out')\n",
    "\n",
    "print(stop_words)"
   ]
  },
  {
   "cell_type": "code",
   "execution_count": 6,
   "metadata": {},
   "outputs": [
    {
     "name": "stdout",
     "output_type": "stream",
     "text": [
      "module ant 2 maven ; create out maven maven maven , out project maven project from in ant ; rule ant project 2 maven from a ant project ( if a description ocl is undefined ( ) then false else not ( a description ' ' ) endif ) to mp maven project project ( id < - a name , name < - a name , description < - a description , build < - mp build ) , mp build maven project build ( source directory < - a basedir , default goal < - a default name ) , mm maven maven project ( xmlns < - its xmlns , default < - a default , path < - a path , properties < - a properties , taskdefs < - a taskdef , goals < - a targets ) , its xmlns maven maven xmlns ( name < - ' ant ' , value < - ' jelly ant ' ) rule ant project 2 maven without description from a ant project ( if a description ocl is undefined ( ) then true else a description ' ' endif ) to mp maven project project ( id < - a name , name < - a name , build < - mp build ) , mp build maven project build ( source directory < - a basedir , default goal < - a default name ) , mm maven maven project ( xmlns < - its xmlns , default < - a default , path < - a path , properties < - a properties , taskdefs < - a taskdef , goals < - a targets ) , its xmlns maven maven xmlns ( name < - ' ant ' , value < - ' jelly ant ' ) rule ant target 2 maven maven goal from a ant target using its dependencies sequence ( ant target ) a depends - as sequence ( ) ; to mg maven maven goal ( name < - a name , contents goal < - sequence dependencies , a tasks ) , dependencies distinct maven maven attain goal foreach ( g in its dependencies ) ( attain goal < - g ) rule ant property value 2 maven maven ant property value from a ant property value to m maven maven ant property value ( name < - a name , value < - a value ) rule ant property location 2 maven maven ant property location from a ant property location to m maven maven ant property location ( name < - a name , location < - a location ) rule ant property file 2 maven maven ant property file from a ant property file to m maven maven ant property file ( file < - a file ) rule ant property env 2 maven maven ant property env from a ant property env to m maven maven ant property env ( environment < - a environment ) rule ant java 2 maven maven java from a ant java to m maven maven java ( classname < - a classname , jar < - a jar , fork < - a fork , class path < - a class path ) rule ant javac 2 maven maven javac from a ant javac to m maven maven javac ( destdir < - a destdir , srcdir < - a srcdir , class path < - a class path , in excludes < - a in excludes ) rule ant javadoc 2 maven maven javadoc from a ant javadoc to m maven maven javadoc ( sourcepath < - a sourcepath , destdir < - a destdir , packagenames < - a packagenames , defaultexcludes < - a defaultexcludes , author < - a author , version < - a version , use < - a use , windowtitle < - a windowtitle ) rule ant tstamp 2 maven maven tstamp from a ant tstamp to m maven maven tstamp ( ) rule ant jar 2 maven maven jar from a ant jar to m maven maven jar ( jarfile < - a jarfile , basedir < - a basedir ) rule ant mkdir 2 maven maven mkdir from a ant mkdir to m maven maven mkdir ( dir < - a dir ) rule ant copy 2 maven maven copy from a ant copy to m maven maven copy ( todir < - a todir , fileset < - a fileset , filterset < - a filterset ) rule ant delete 2 maven maven delete from a ant delete to m maven maven delete ( dir < - a dir ) rule ant task def 2 maven maven task def from a ant task def to m maven maven ant task def ( name < - a name , classname < - a classname ) rule ant new task 2 maven maven new task from a ant new task to m maven maven new task ( task name < - a task name , attributes < - a attributes ) rule ant attribut 2 maven maven attribut from a ant attribut to m maven maven attribut ( name < - a name , value < - a value ) rule ant path 2 maven maven path from a ant path to mm maven maven path ( id < - a id , refid < - a refid , fileset < - a fileset , path < - a path , path element < - a path element ) rule ant class path 2 maven maven class path from a ant class path to mm maven maven class path ( refid < - a refid , path element < - a path element , fileset < - a fileset ) rule ant path element 2 maven maven path element from a ant path element to mm maven maven path element ( path < - a path , location < - a location ) rule ant file set 2 maven maven file set from a ant file set to m maven maven file set ( dir < - a dir , patternset < - a patternset , include < - a include , exclude < - a exclude ) rule ant filter set 2 maven maven filter set from a ant filter set to m maven maven filter set ( starttoken < - a starttoken , endtoken < - a endtoken , filter < - a filter , filtersfile < - a filtersfile ) rule ant filter 2 maven maven filter from a ant filter to m maven maven filter ( token < - a token , value < - a value ) rule ant filters file 2 maven maven filters file from a ant filters file to m maven maven filters file ( file < - a file ) rule ant patternset 2 maven maven patternset from a ant pattern set to m maven maven pattern set ( inexcludes < - a inexcludes ) rule ant includes 2 maven maven includes from a ant includes to m maven maven includes ( name < - a name , if condition < - a if condition , unless < - a unless ) rule ant excludes 2 maven maven excludes from a ant excludes to m maven maven excludes ( name < - a name , if condition < - a if condition , unless < - a unless ) rule ant includes file 2 maven maven includes file from a ant includes file to m maven maven includes file ( name < - a name , if condition < - a if condition , unless < - a unless ) rule ant excludes file 2 maven maven excludes file from a ant excludes file to m maven maven excludes file ( name < - a name , if condition < - a if condition , unless < - a unless ) \n"
     ]
    }
   ],
   "source": [
    "import re\n",
    "# Divide the parameters in the text\n",
    "df['tokenized_words'] = [' '.join(re.split('(;|-|<|,|\\(|\\)|\\'|\")', text)) for text in list(df['Content'])]\n",
    "df['tokenized_words'] = [' '.join(re.split('(\\d+)', text)) for text in list(df['tokenized_words'])]\n",
    "df['tokenized_words'] = [re.sub(' +', ' ', ' '.join([t if t.isdigit() or t in ';-<,()\\'\"' else ' '.join(re.findall(r'[A-Z]?[a-z]+|[A-Z]+(?=[A-Z]|$)', t)).lower() for t in list(text.split())])) for text in list(df['tokenized_words'])]\n",
    "\n",
    "print(df['tokenized_words'][0])"
   ]
  },
  {
   "cell_type": "code",
   "execution_count": 7,
   "metadata": {},
   "outputs": [
    {
     "name": "stdout",
     "output_type": "stream",
     "text": [
      "module ant 2 maven ; create out maven maven maven , out project maven project from in ant ; rule ant project 2 maven from ant project ( if description ocl undefined ( ) then false else ( description ' ' ) endif ) to mp maven project project ( id < - name , name < - name , description < - description , build < - mp build ) , mp build maven project build ( source directory < - basedir , default goal < - default name ) , mm maven maven project ( xmlns < - xmlns , default < - default , path < - path , properties < - properties , taskdefs < - taskdef , goals < - targets ) , xmlns maven maven xmlns ( name < - ' ant ' , value < - ' jelly ant ' ) rule ant project 2 maven without description from ant project ( if description ocl undefined ( ) then true else description ' ' endif ) to mp maven project project ( id < - name , name < - name , build < - mp build ) , mp build maven project build ( source directory < - basedir , default goal < - default name ) , mm maven maven project ( xmlns < - xmlns , default < - default , path < - path , properties < - properties , taskdefs < - taskdef , goals < - targets ) , xmlns maven maven xmlns ( name < - ' ant ' , value < - ' jelly ant ' ) rule ant target 2 maven maven goal from ant target using dependencies sequence ( ant target ) depends - sequence ( ) ; to mg maven maven goal ( name < - name , contents goal < - sequence dependencies , tasks ) , dependencies distinct maven maven attain goal foreach ( g in dependencies ) ( attain goal < - g ) rule ant property value 2 maven maven ant property value from ant property value to maven maven ant property value ( name < - name , value < - value ) rule ant property location 2 maven maven ant property location from ant property location to maven maven ant property location ( name < - name , location < - location ) rule ant property file 2 maven maven ant property file from ant property file to maven maven ant property file ( file < - file ) rule ant property env 2 maven maven ant property env from ant property env to maven maven ant property env ( environment < - environment ) rule ant java 2 maven maven java from ant java to maven maven java ( classname < - classname , jar < - jar , fork < - fork , class path < - class path ) rule ant javac 2 maven maven javac from ant javac to maven maven javac ( destdir < - destdir , srcdir < - srcdir , class path < - class path , in excludes < - in excludes ) rule ant javadoc 2 maven maven javadoc from ant javadoc to maven maven javadoc ( sourcepath < - sourcepath , destdir < - destdir , packagenames < - packagenames , defaultexcludes < - defaultexcludes , author < - author , version < - version , use < - use , windowtitle < - windowtitle ) rule ant tstamp 2 maven maven tstamp from ant tstamp to maven maven tstamp ( ) rule ant jar 2 maven maven jar from ant jar to maven maven jar ( jarfile < - jarfile , basedir < - basedir ) rule ant mkdir 2 maven maven mkdir from ant mkdir to maven maven mkdir ( dir < - dir ) rule ant copy 2 maven maven copy from ant copy to maven maven copy ( todir < - todir , fileset < - fileset , filterset < - filterset ) rule ant delete 2 maven maven delete from ant delete to maven maven delete ( dir < - dir ) rule ant task def 2 maven maven task def from ant task def to maven maven ant task def ( name < - name , classname < - classname ) rule ant new task 2 maven maven new task from ant new task to maven maven new task ( task name < - task name , attributes < - attributes ) rule ant attribut 2 maven maven attribut from ant attribut to maven maven attribut ( name < - name , value < - value ) rule ant path 2 maven maven path from ant path to mm maven maven path ( id < - id , refid < - refid , fileset < - fileset , path < - path , path element < - path element ) rule ant class path 2 maven maven class path from ant class path to mm maven maven class path ( refid < - refid , path element < - path element , fileset < - fileset ) rule ant path element 2 maven maven path element from ant path element to mm maven maven path element ( path < - path , location < - location ) rule ant file set 2 maven maven file set from ant file set to maven maven file set ( dir < - dir , patternset < - patternset , include < - include , exclude < - exclude ) rule ant filter set 2 maven maven filter set from ant filter set to maven maven filter set ( starttoken < - starttoken , endtoken < - endtoken , filter < - filter , filtersfile < - filtersfile ) rule ant filter 2 maven maven filter from ant filter to maven maven filter ( token < - token , value < - value ) rule ant filters file 2 maven maven filters file from ant filters file to maven maven filters file ( file < - file ) rule ant patternset 2 maven maven patternset from ant pattern set to maven maven pattern set ( inexcludes < - inexcludes ) rule ant includes 2 maven maven includes from ant includes to maven maven includes ( name < - name , if condition < - if condition , unless < - unless ) rule ant excludes 2 maven maven excludes from ant excludes to maven maven excludes ( name < - name , if condition < - if condition , unless < - unless ) rule ant includes file 2 maven maven includes file from ant includes file to maven maven includes file ( name < - name , if condition < - if condition , unless < - unless ) rule ant excludes file 2 maven maven excludes file from ant excludes file to maven maven excludes file ( name < - name , if condition < - if condition , unless < - unless )\n"
     ]
    }
   ],
   "source": [
    "df['stop_words_filtered'] = [' '.join([t for t in text.split() if t not in stop_words]) for text in list(df['tokenized_words'])]\n",
    "\n",
    "print(df['stop_words_filtered'][0])"
   ]
  },
  {
   "cell_type": "code",
   "execution_count": 8,
   "metadata": {},
   "outputs": [
    {
     "name": "stdout",
     "output_type": "stream",
     "text": [
      "modul ant 2 maven ; creat out maven maven maven , out project maven project from in ant ; rule ant project 2 maven from ant project ( if descript ocl undefin ( ) then fals els ( descript ' ' ) endif ) to mp maven project project ( id < - name , name < - name , descript < - descript , build < - mp build ) , mp build maven project build ( sourc directori < - basedir , default goal < - default name ) , mm maven maven project ( xmlns < - xmlns , default < - default , path < - path , properti < - properti , taskdef < - taskdef , goal < - target ) , xmlns maven maven xmlns ( name < - ' ant ' , valu < - ' jelli ant ' ) rule ant project 2 maven without descript from ant project ( if descript ocl undefin ( ) then true els descript ' ' endif ) to mp maven project project ( id < - name , name < - name , build < - mp build ) , mp build maven project build ( sourc directori < - basedir , default goal < - default name ) , mm maven maven project ( xmlns < - xmlns , default < - default , path < - path , properti < - properti , taskdef < - taskdef , goal < - target ) , xmlns maven maven xmlns ( name < - ' ant ' , valu < - ' jelli ant ' ) rule ant target 2 maven maven goal from ant target use depend sequenc ( ant target ) depend - sequenc ( ) ; to mg maven maven goal ( name < - name , content goal < - sequenc depend , task ) , depend distinct maven maven attain goal foreach ( g in depend ) ( attain goal < - g ) rule ant properti valu 2 maven maven ant properti valu from ant properti valu to maven maven ant properti valu ( name < - name , valu < - valu ) rule ant properti locat 2 maven maven ant properti locat from ant properti locat to maven maven ant properti locat ( name < - name , locat < - locat ) rule ant properti file 2 maven maven ant properti file from ant properti file to maven maven ant properti file ( file < - file ) rule ant properti env 2 maven maven ant properti env from ant properti env to maven maven ant properti env ( environ < - environ ) rule ant java 2 maven maven java from ant java to maven maven java ( classnam < - classnam , jar < - jar , fork < - fork , class path < - class path ) rule ant javac 2 maven maven javac from ant javac to maven maven javac ( destdir < - destdir , srcdir < - srcdir , class path < - class path , in exclud < - in exclud ) rule ant javadoc 2 maven maven javadoc from ant javadoc to maven maven javadoc ( sourcepath < - sourcepath , destdir < - destdir , packagenam < - packagenam , defaultexclud < - defaultexclud , author < - author , version < - version , use < - use , windowtitl < - windowtitl ) rule ant tstamp 2 maven maven tstamp from ant tstamp to maven maven tstamp ( ) rule ant jar 2 maven maven jar from ant jar to maven maven jar ( jarfil < - jarfil , basedir < - basedir ) rule ant mkdir 2 maven maven mkdir from ant mkdir to maven maven mkdir ( dir < - dir ) rule ant copi 2 maven maven copi from ant copi to maven maven copi ( todir < - todir , fileset < - fileset , filterset < - filterset ) rule ant delet 2 maven maven delet from ant delet to maven maven delet ( dir < - dir ) rule ant task def 2 maven maven task def from ant task def to maven maven ant task def ( name < - name , classnam < - classnam ) rule ant new task 2 maven maven new task from ant new task to maven maven new task ( task name < - task name , attribut < - attribut ) rule ant attribut 2 maven maven attribut from ant attribut to maven maven attribut ( name < - name , valu < - valu ) rule ant path 2 maven maven path from ant path to mm maven maven path ( id < - id , refid < - refid , fileset < - fileset , path < - path , path element < - path element ) rule ant class path 2 maven maven class path from ant class path to mm maven maven class path ( refid < - refid , path element < - path element , fileset < - fileset ) rule ant path element 2 maven maven path element from ant path element to mm maven maven path element ( path < - path , locat < - locat ) rule ant file set 2 maven maven file set from ant file set to maven maven file set ( dir < - dir , patternset < - patternset , includ < - includ , exclud < - exclud ) rule ant filter set 2 maven maven filter set from ant filter set to maven maven filter set ( starttoken < - starttoken , endtoken < - endtoken , filter < - filter , filtersfil < - filtersfil ) rule ant filter 2 maven maven filter from ant filter to maven maven filter ( token < - token , valu < - valu ) rule ant filter file 2 maven maven filter file from ant filter file to maven maven filter file ( file < - file ) rule ant patternset 2 maven maven patternset from ant pattern set to maven maven pattern set ( inexclud < - inexclud ) rule ant includ 2 maven maven includ from ant includ to maven maven includ ( name < - name , if condit < - if condit , unless < - unless ) rule ant exclud 2 maven maven exclud from ant exclud to maven maven exclud ( name < - name , if condit < - if condit , unless < - unless ) rule ant includ file 2 maven maven includ file from ant includ file to maven maven includ file ( name < - name , if condit < - if condit , unless < - unless ) rule ant exclud file 2 maven maven exclud file from ant exclud file to maven maven exclud file ( name < - name , if condit < - if condit , unless < - unless )\n"
     ]
    }
   ],
   "source": [
    "from nltk.stem.snowball import SnowballStemmer\n",
    "snowball_stemmer = SnowballStemmer('english')\n",
    "\n",
    "df['stemmed_content'] = [' '.join([snowball_stemmer.stem(word) for word in text.split()]) for text in df['stop_words_filtered']]\n",
    "\n",
    "print(df['stemmed_content'][0])"
   ]
  },
  {
   "cell_type": "code",
   "execution_count": 9,
   "metadata": {},
   "outputs": [],
   "source": [
    "from read_intent_classification_and_filter import append_df_to_excel\n",
    "\n",
    "if (os.path.exists(join(getcwd(), '../Intent_classification_filtered.xlsx'))):\n",
    "    os.remove(join(getcwd(), '../Intent_classification_filtered.xlsx'))\n",
    "\n",
    "append_df_to_excel(join(getcwd(), '../Intent_classification_filtered.xlsx'), df, sheet_name='Sheet1', index=False)"
   ]
  },
  {
   "cell_type": "code",
   "execution_count": null,
   "metadata": {},
   "outputs": [],
   "source": []
  }
 ],
 "metadata": {
  "interpreter": {
   "hash": "d728e6f843d62dfe5ca80baf47b8f6f39ddf8936192a40ab502a5a8d1a7fdc0a"
  },
  "kernelspec": {
   "display_name": "Python 3",
   "language": "python",
   "name": "python3"
  },
  "language_info": {
   "codemirror_mode": {
    "name": "ipython",
    "version": 3
   },
   "file_extension": ".py",
   "mimetype": "text/x-python",
   "name": "python",
   "nbconvert_exporter": "python",
   "pygments_lexer": "ipython3",
   "version": "3.8.5"
  },
  "metadata": {
   "interpreter": {
    "hash": "d728e6f843d62dfe5ca80baf47b8f6f39ddf8936192a40ab502a5a8d1a7fdc0a"
   }
  }
 },
 "nbformat": 4,
 "nbformat_minor": 2
}
